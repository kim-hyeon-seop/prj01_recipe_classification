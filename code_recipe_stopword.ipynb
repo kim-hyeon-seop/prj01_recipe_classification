{
 "cells": [
  {
   "cell_type": "markdown",
   "id": "98a4bf37",
   "metadata": {},
   "source": [
    "#  불용어 사전 만들기 작업\n",
    "\n",
    "\n",
    "#divConfirmedMaterialArea > ul:nth-child(2) > a:nth-child(2) > li > span\n",
    "#divConfirmedMaterialArea > ul:nth-child(2) > a:nth-child(3) > li > span\n",
    "#divConfirmedMaterialArea > ul:nth-child(1) > a:nth-child(2) > li > span\n",
    "#divConfirmedMaterialArea > ul:nth-child(2) > a:nth-child(8) > li > span\n",
    "\n",
    "//*[@id=\"divConfirmedMaterialArea\"]/ul[1]/a[1]/li/span\n",
    "//*[@id=\"divConfirmedMaterialArea\"]/ul[1]/a[1]/li/span\n",
    "//*[@id=\"divConfirmedMaterialArea\"]/ul[2]/a[2]/li/span\n",
    "//*[@id=\"divConfirmedMaterialArea\"]/ul[2]/a[1]/li/span\n",
    "//*[@id=\"divConfirmedMaterialArea\"]/ul[1]/a[1]/li/span\n",
    "//*[@id=\"divConfirmedMaterialArea\"]/ul[1]/a[2]/li/span\n",
    "\n",
    "//*[@id=\"divConfirmedMaterialArea\"]/ul/a[6]/li/span\n",
    "\n",
    "//*[@id=\"divConfirmedMaterialArea\"]/ul/a[5]/li/span\n",
    "//*[@id=\"divConfirmedMaterialArea\"]/ul[2]/a[6]/li/span\n",
    "//*[@id=\"divConfirmedMaterialArea\"]/ul[1]/a[1]/li/span\n",
    "\n",
    "\n",
    "#divConfirmedMaterialArea > ul:nth-child(1) > a:nth-child(2) > li > span\n",
    "#divConfirmedMaterialArea > ul:nth-child(1) > a:nth-child(7) > li > span\n",
    "#divConfirmedMaterialArea > ul:nth-child(2) > a:nth-child(7) > li > span"
   ]
  },
  {
   "cell_type": "code",
   "execution_count": 1,
   "id": "1c13bdb6",
   "metadata": {},
   "outputs": [
    {
     "name": "stderr",
     "output_type": "stream",
     "text": [
      "C:\\Users\\Nokdu\\.conda\\envs\\ai_exam\\lib\\site-packages\\ipykernel_launcher.py:18: DeprecationWarning: executable_path has been deprecated, please pass in a Service object\n",
      "C:\\Users\\Nokdu\\.conda\\envs\\ai_exam\\lib\\site-packages\\ipykernel_launcher.py:28: DeprecationWarning: find_element_by_* commands are deprecated. Please use find_element() instead\n",
      "C:\\Users\\Nokdu\\.conda\\envs\\ai_exam\\lib\\site-packages\\ipykernel_launcher.py:34: DeprecationWarning: find_element_by_* commands are deprecated. Please use find_element() instead\n"
     ]
    }
   ],
   "source": [
    "## 불용어 사전 만들기 (해먹남녀 이용)\n",
    "\n",
    "\n",
    "from selenium import webdriver\n",
    "from selenium.common.exceptions import NoSuchElementException, StaleElementReferenceException\n",
    "import pandas as pd\n",
    "import requests\n",
    "import time\n",
    "import re\n",
    "from selenium.webdriver.support.ui import WebDriverWait\n",
    "\n",
    "pd.set_option('display.unicode.east_asian_width', True)\n",
    "options = webdriver.ChromeOptions()\n",
    "options.add_argument('lang=ko_KR')\n",
    "options.add_argument('--no-sandbox')\n",
    "options.add_argument('--disable-dev-shm-usage')\n",
    "options.add_argument('disable-gpu')\n",
    "driver = webdriver.Chrome('./chromedriver', options=options)\n",
    "headers = {\"User-Agent\":'Mozilla/5.0 (Windows NT 10.0; Win64; x64) AppleWebKit/537.36 (KHTML, like Gecko) Chrome/91.0.4472.101 Safari/537.36'}\n",
    "wait = WebDriverWait(driver, 10)\n",
    "stopword = ''\n",
    "stopwords = []\n",
    "\n",
    "for i in range(1,50):\n",
    "    url = 'https://haemukja.com/recipes?category_group2%5B%5D=60&page={}'.format(i)\n",
    "    for j in range(1, 13):\n",
    "        driver.get(url)\n",
    "        elem = driver.find_element_by_xpath('//*[@id=\"content\"]/section/div[2]/div/ul/li[{}]/p/a'.format(j))\n",
    "        new_url = elem.get_attribute(\"href\")\n",
    "        driver.get(new_url)\n",
    "        try:\n",
    "            for k in range(1, 40):\n",
    "                stopword = driver.find_element_by_xpath(\n",
    "                '//*[@id=\"container\"]/div[2]/div/div[1]/section[1]/div/div[3]/ul/li[{}]/em'.format(k)).text\n",
    "                stopword = re.compile('[^가-힣]').sub('', stopword)\n",
    "                stopwords.append(stopword)\n",
    "                stopword = ''\n",
    "                \n",
    "        except:\n",
    "            pass\n",
    "\n",
    "df_section_titles = pd.DataFrame(stopwords , columns=['stopword'])\n",
    "df_section_titles.to_csv('./stopword.csv')\n",
    "driver.close()\n"
   ]
  },
  {
   "cell_type": "code",
   "execution_count": null,
   "id": "86da9a80",
   "metadata": {},
   "outputs": [],
   "source": []
  }
 ],
 "metadata": {
  "kernelspec": {
   "display_name": "Python 3 (ipykernel)",
   "language": "python",
   "name": "python3"
  },
  "language_info": {
   "codemirror_mode": {
    "name": "ipython",
    "version": 3
   },
   "file_extension": ".py",
   "mimetype": "text/x-python",
   "name": "python",
   "nbconvert_exporter": "python",
   "pygments_lexer": "ipython3",
   "version": "3.7.11"
  }
 },
 "nbformat": 4,
 "nbformat_minor": 5
}
